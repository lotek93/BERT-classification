{
 "cells": [
  {
   "cell_type": "markdown",
   "metadata": {},
   "source": [
    "Данный код генерирует решение для соревнования https://www.kaggle.com/c/bert-classification <br>\n",
    "Public Leaderboard score 0.96818\n",
    "\n",
    "Необходимые модули для питона:\n",
    "- numpy 1.14.6\n",
    "- pandas 0.23.4\n",
    "- keras 2.2.4\n",
    "- tensorflow 1.12.0\n",
    "\n",
    "Пять файлов с обученными нейросетями должны располагаться локально в текущей папке.<br>\n",
    "Файл test.csv с тестовым датасетом должен находиться в папке .\\input\\<br>\n",
    "В результате данный ноутбук записывает в текущую папку файл submission.csv<br>"
   ]
  },
  {
   "cell_type": "code",
   "execution_count": 1,
   "metadata": {},
   "outputs": [
    {
     "name": "stderr",
     "output_type": "stream",
     "text": [
      "Using TensorFlow backend.\n"
     ]
    }
   ],
   "source": [
    "import numpy as np\n",
    "import pandas as pd\n",
    "\n",
    "import keras"
   ]
  },
  {
   "cell_type": "code",
   "execution_count": 3,
   "metadata": {},
   "outputs": [],
   "source": [
    "N_FOLDS = 5\n",
    "N_CLASSES = 14\n",
    "input_dir = '.\\\\input\\\\'\n",
    "test = pd.read_csv(input_dir + 'test.csv')\n",
    "X_test = test.loc[:,'feature_0':'feature_769'].values"
   ]
  },
  {
   "cell_type": "code",
   "execution_count": 4,
   "metadata": {},
   "outputs": [],
   "source": [
    "model_fnames = ['bl0_cv5_val_cat_acc0.9642.h5',\n",
    "                'bl1_cv5_val_cat_acc0.9638.h5',\n",
    "                'bl2_cv5_val_cat_acc0.9622.h5',\n",
    "                'bl3_cv5_val_cat_acc0.9633.h5',\n",
    "                'bl4_cv5_val_cat_acc0.9651.h5']"
   ]
  },
  {
   "cell_type": "code",
   "execution_count": 5,
   "metadata": {},
   "outputs": [],
   "source": [
    "y_pred = np.zeros((np.shape(X_test)[0], N_CLASSES))\n",
    "\n",
    "for model_fname in model_fnames:\n",
    "    model = keras.models.load_model(model_fname)\n",
    "    y_pred += model.predict(X_test)\n",
    "    \n",
    "y_pred_class = np.argmax(y_pred, axis=1)\n",
    "y_pred_class = pd.DataFrame({'id': [i for i in range(np.shape(X_test)[0])], 'class_label': y_pred_class})\n",
    "y_pred_class.to_csv('submission.csv', index=False)"
   ]
  },
  {
   "cell_type": "code",
   "execution_count": null,
   "metadata": {},
   "outputs": [],
   "source": []
  }
 ],
 "metadata": {
  "kernelspec": {
   "display_name": "Python 3",
   "language": "python",
   "name": "python3"
  },
  "language_info": {
   "codemirror_mode": {
    "name": "ipython",
    "version": 3
   },
   "file_extension": ".py",
   "mimetype": "text/x-python",
   "name": "python",
   "nbconvert_exporter": "python",
   "pygments_lexer": "ipython3",
   "version": "3.6.7"
  }
 },
 "nbformat": 4,
 "nbformat_minor": 2
}
